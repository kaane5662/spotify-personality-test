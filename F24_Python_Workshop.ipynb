{
  "nbformat": 4,
  "nbformat_minor": 0,
  "metadata": {
    "colab": {
      "provenance": [],
      "include_colab_link": true
    },
    "kernelspec": {
      "name": "python3",
      "display_name": "Python 3"
    },
    "language_info": {
      "name": "python"
    }
  },
  "cells": [
    {
      "cell_type": "markdown",
      "metadata": {
        "id": "view-in-github",
        "colab_type": "text"
      },
      "source": [
        "<a href=\"https://colab.research.google.com/github/kaane5662/spotify-personality-test/blob/main/F24_Python_Workshop.ipynb\" target=\"_parent\"><img src=\"https://colab.research.google.com/assets/colab-badge.svg\" alt=\"Open In Colab\"/></a>"
      ]
    },
    {
      "cell_type": "markdown",
      "source": [
        "# Python Google Slides Presentation\n",
        "F24 Python Workshop\n",
        "\n",
        "November 6 2024\n",
        "\n",
        "1PP W507 12:10p-1:10p\n",
        "\n",
        "These slides have info on Python coding basics and coding prompts and their answers.\n",
        "\n",
        "[Python Workshop F24 Google Slides](https://docs.google.com/presentation/d/1WDVgGMt3AlqGzkMuDguHx8grWm3uwni9lqVyOckLctI/edit?usp=sharing)"
      ],
      "metadata": {
        "id": "R-AWJZO3sEHU"
      }
    },
    {
      "cell_type": "markdown",
      "source": [
        "# What is Google Colab?\n",
        "\n",
        "* With Google Colab, you can code in Python in the cloud without installing it on your computer.\n",
        "\n",
        "* It is essentially a Jupyter Notebook environment in the cloud. Jupyter Notebook is one of the many environments that can write, edit, and run Python code/files."
      ],
      "metadata": {
        "id": "BkLqhMEGtX5x"
      }
    },
    {
      "cell_type": "markdown",
      "source": [
        "# Navigating Google Colab\n",
        "\n"
      ],
      "metadata": {
        "id": "DOwQ4yCRrzZJ"
      }
    },
    {
      "cell_type": "markdown",
      "source": [
        "To add more cells, you can click on + Code. You can also create a text cell by clicking on +Text.\n",
        "Code Cells\n",
        "\n",
        "* To run your code, either [hit the arrow on the left] or [click Shift + Enter]\n",
        "* Notice on the top right of the Code cell, there is a small toolbar with options like moving, copying, and deleting the cell"
      ],
      "metadata": {
        "id": "_oEkfqhNr63j"
      }
    },
    {
      "cell_type": "markdown",
      "source": [
        "#Data Types\n",
        "Strings\n",
        "* Try typing `print(\"Hello World\")` or `print('Hello World')`\n"
      ],
      "metadata": {
        "id": "H9RTyNM4LJZ4"
      }
    },
    {
      "cell_type": "code",
      "source": [],
      "metadata": {
        "id": "7cwlnoYMsYyJ"
      },
      "execution_count": null,
      "outputs": []
    },
    {
      "cell_type": "markdown",
      "source": [
        "Integers\n",
        "* Set x = 2, set y = -5, `print(x+y)`\n"
      ],
      "metadata": {
        "id": "h6FGlcwpO6ou"
      }
    },
    {
      "cell_type": "markdown",
      "source": [],
      "metadata": {
        "id": "6SszOONxKzCQ"
      }
    },
    {
      "cell_type": "code",
      "source": [],
      "metadata": {
        "id": "oc6QzlJcO893"
      },
      "execution_count": null,
      "outputs": []
    },
    {
      "cell_type": "markdown",
      "source": [
        "Float\n",
        "* Set x = 2.2, set y = -5.7 `print(x+y)`"
      ],
      "metadata": {
        "id": "clz2sBaPO9bD"
      }
    },
    {
      "cell_type": "code",
      "source": [],
      "metadata": {
        "id": "Wv6mEPAXO_P8"
      },
      "execution_count": null,
      "outputs": []
    },
    {
      "cell_type": "markdown",
      "source": [
        "# Conditionals\n",
        "Slides Example"
      ],
      "metadata": {
        "id": "bG4Jo-kTPai7"
      }
    },
    {
      "cell_type": "code",
      "source": [
        "temp = int(input(\"What is the temperature today? [Farenheit]: \"))\n",
        "\n",
        "if temp <= 32:\n",
        "  print(\"It's freezing!\")\n",
        "elif temp < 55:\n",
        "  print(\"It's chilly out.\")\n",
        "elif temp < 70:\n",
        "  print(\"It's nice out.\")\n",
        "elif temp < 80:\n",
        "  print(\"It's warm out.\")\n",
        "else:\n",
        "  print(\"It's so hot!!\")"
      ],
      "metadata": {
        "id": "IcxmQw4PPdFa"
      },
      "execution_count": null,
      "outputs": []
    },
    {
      "cell_type": "markdown",
      "source": [
        "# Loops\n",
        "\n",
        "While Loops and For Loops"
      ],
      "metadata": {
        "id": "UuYVw0T8WWAz"
      }
    },
    {
      "cell_type": "code",
      "source": [
        "x = False\n",
        "y = 0\n",
        "\n",
        "while x:\n",
        "  for i in range(5):\n",
        "    print(y)\n",
        "    y+=1\n",
        "  x = False"
      ],
      "metadata": {
        "id": "DrvtlzdCX0dK"
      },
      "execution_count": null,
      "outputs": []
    },
    {
      "cell_type": "markdown",
      "source": [
        "#Coding Prompt 1\n",
        "Get a user input that takes in their age as an integer (int).\n",
        "* If they’re younger than 16, print `“You’re too young to drive.”`\n",
        "* If they’re younger than 18, print `“You’re too young to vote.”`\n",
        "* If they’re younger than 21, print `“You’re too young to drink.”`\n",
        "* If they’re younger than 35, print `“You’re too young to run for President.”`\n",
        "* If they’re older than all of the above ages, print `“You’re old.”`"
      ],
      "metadata": {
        "id": "DlVvALSBQ5Dz"
      }
    },
    {
      "cell_type": "code",
      "source": [],
      "metadata": {
        "id": "e2W9IJ2NRrjl"
      },
      "execution_count": null,
      "outputs": []
    },
    {
      "cell_type": "markdown",
      "source": [
        "#Coding Prompt 2\n",
        "EXAMPLE: Person needs to be a student AND be vaccinated\n",
        "* Then say “This student is allowed in the building.”\n",
        "* If student is yes but vax is no, tell them get.\n",
        "* If student is no but vax is yes, tell them to get their student ID activated.\n",
        "* If neither is yes, say they’re not allowed.\n",
        "\n"
      ],
      "metadata": {
        "id": "PaWDb-ZPRvlF"
      }
    },
    {
      "cell_type": "code",
      "source": [],
      "metadata": {
        "id": "UAolJfKqUSzr"
      },
      "execution_count": null,
      "outputs": []
    },
    {
      "cell_type": "markdown",
      "source": [
        "# BONUS QUESTION"
      ],
      "metadata": {
        "id": "9qVqmFByZ60M"
      }
    },
    {
      "cell_type": "code",
      "source": [
        "import random\n",
        "\n",
        "answer = random.randint(1,100)\n",
        "count = 0\n",
        "guess = None"
      ],
      "metadata": {
        "id": "K0VkgbClZ-Js"
      },
      "execution_count": null,
      "outputs": []
    }
  ]
}